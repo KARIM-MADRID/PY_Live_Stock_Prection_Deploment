{
 "cells": [
  {
   "cell_type": "code",
   "execution_count": 1,
   "id": "f962ab58",
   "metadata": {},
   "outputs": [],
   "source": [
    "#yahoo finance as data source\n",
    "#pip install yfinance\n",
    "import yfinance as yf"
   ]
  },
  {
   "cell_type": "code",
   "execution_count": 2,
   "id": "47cca600",
   "metadata": {},
   "outputs": [],
   "source": [
    "#See the yahoo finance ticker for your stock symbol\n",
    "stock_symbol = 'GAIL.NS'"
   ]
  },
  {
   "cell_type": "code",
   "execution_count": 3,
   "id": "88ec85d0",
   "metadata": {},
   "outputs": [
    {
     "name": "stdout",
     "output_type": "stream",
     "text": [
      "[*********************100%***********************]  1 of 1 completed\n"
     ]
    }
   ],
   "source": [
    "#last 5 years data with interval of 1 day\n",
    "data = yf.download(tickers=stock_symbol,period='5y',interval='1d')"
   ]
  },
  {
   "cell_type": "code",
   "execution_count": 4,
   "id": "a85dd664",
   "metadata": {},
   "outputs": [
    {
     "data": {
      "text/html": [
       "<div>\n",
       "<style scoped>\n",
       "    .dataframe tbody tr th:only-of-type {\n",
       "        vertical-align: middle;\n",
       "    }\n",
       "\n",
       "    .dataframe tbody tr th {\n",
       "        vertical-align: top;\n",
       "    }\n",
       "\n",
       "    .dataframe thead th {\n",
       "        text-align: right;\n",
       "    }\n",
       "</style>\n",
       "<table border=\"1\" class=\"dataframe\">\n",
       "  <thead>\n",
       "    <tr style=\"text-align: right;\">\n",
       "      <th></th>\n",
       "      <th>Open</th>\n",
       "      <th>High</th>\n",
       "      <th>Low</th>\n",
       "      <th>Close</th>\n",
       "      <th>Adj Close</th>\n",
       "      <th>Volume</th>\n",
       "    </tr>\n",
       "    <tr>\n",
       "      <th>Date</th>\n",
       "      <th></th>\n",
       "      <th></th>\n",
       "      <th></th>\n",
       "      <th></th>\n",
       "      <th></th>\n",
       "      <th></th>\n",
       "    </tr>\n",
       "  </thead>\n",
       "  <tbody>\n",
       "    <tr>\n",
       "      <th>2017-12-12</th>\n",
       "      <td>121.200027</td>\n",
       "      <td>124.000031</td>\n",
       "      <td>120.575027</td>\n",
       "      <td>122.975029</td>\n",
       "      <td>99.832718</td>\n",
       "      <td>28524420</td>\n",
       "    </tr>\n",
       "    <tr>\n",
       "      <th>2017-12-13</th>\n",
       "      <td>123.462532</td>\n",
       "      <td>125.700027</td>\n",
       "      <td>121.600029</td>\n",
       "      <td>122.950027</td>\n",
       "      <td>99.812416</td>\n",
       "      <td>22113702</td>\n",
       "    </tr>\n",
       "    <tr>\n",
       "      <th>2017-12-14</th>\n",
       "      <td>123.500031</td>\n",
       "      <td>124.275032</td>\n",
       "      <td>120.350029</td>\n",
       "      <td>121.775032</td>\n",
       "      <td>98.858543</td>\n",
       "      <td>12564112</td>\n",
       "    </tr>\n",
       "    <tr>\n",
       "      <th>2017-12-15</th>\n",
       "      <td>123.200027</td>\n",
       "      <td>124.625031</td>\n",
       "      <td>121.100029</td>\n",
       "      <td>121.412529</td>\n",
       "      <td>98.564262</td>\n",
       "      <td>13527340</td>\n",
       "    </tr>\n",
       "    <tr>\n",
       "      <th>2017-12-18</th>\n",
       "      <td>121.975029</td>\n",
       "      <td>126.112534</td>\n",
       "      <td>118.962532</td>\n",
       "      <td>124.000031</td>\n",
       "      <td>100.664833</td>\n",
       "      <td>25651817</td>\n",
       "    </tr>\n",
       "  </tbody>\n",
       "</table>\n",
       "</div>"
      ],
      "text/plain": [
       "                  Open        High         Low       Close   Adj Close  \\\n",
       "Date                                                                     \n",
       "2017-12-12  121.200027  124.000031  120.575027  122.975029   99.832718   \n",
       "2017-12-13  123.462532  125.700027  121.600029  122.950027   99.812416   \n",
       "2017-12-14  123.500031  124.275032  120.350029  121.775032   98.858543   \n",
       "2017-12-15  123.200027  124.625031  121.100029  121.412529   98.564262   \n",
       "2017-12-18  121.975029  126.112534  118.962532  124.000031  100.664833   \n",
       "\n",
       "              Volume  \n",
       "Date                  \n",
       "2017-12-12  28524420  \n",
       "2017-12-13  22113702  \n",
       "2017-12-14  12564112  \n",
       "2017-12-15  13527340  \n",
       "2017-12-18  25651817  "
      ]
     },
     "execution_count": 4,
     "metadata": {},
     "output_type": "execute_result"
    }
   ],
   "source": [
    "data.head()"
   ]
  },
  {
   "cell_type": "code",
   "execution_count": 5,
   "id": "b76bfee2",
   "metadata": {},
   "outputs": [
    {
     "data": {
      "text/html": [
       "<div>\n",
       "<style scoped>\n",
       "    .dataframe tbody tr th:only-of-type {\n",
       "        vertical-align: middle;\n",
       "    }\n",
       "\n",
       "    .dataframe tbody tr th {\n",
       "        vertical-align: top;\n",
       "    }\n",
       "\n",
       "    .dataframe thead th {\n",
       "        text-align: right;\n",
       "    }\n",
       "</style>\n",
       "<table border=\"1\" class=\"dataframe\">\n",
       "  <thead>\n",
       "    <tr style=\"text-align: right;\">\n",
       "      <th></th>\n",
       "      <th>Open</th>\n",
       "      <th>High</th>\n",
       "      <th>Low</th>\n",
       "      <th>Close</th>\n",
       "      <th>Adj Close</th>\n",
       "      <th>Volume</th>\n",
       "    </tr>\n",
       "    <tr>\n",
       "      <th>Date</th>\n",
       "      <th></th>\n",
       "      <th></th>\n",
       "      <th></th>\n",
       "      <th></th>\n",
       "      <th></th>\n",
       "      <th></th>\n",
       "    </tr>\n",
       "  </thead>\n",
       "  <tbody>\n",
       "    <tr>\n",
       "      <th>2022-12-06</th>\n",
       "      <td>93.500000</td>\n",
       "      <td>93.500000</td>\n",
       "      <td>92.199997</td>\n",
       "      <td>93.000000</td>\n",
       "      <td>93.000000</td>\n",
       "      <td>9031442</td>\n",
       "    </tr>\n",
       "    <tr>\n",
       "      <th>2022-12-07</th>\n",
       "      <td>92.800003</td>\n",
       "      <td>94.050003</td>\n",
       "      <td>92.800003</td>\n",
       "      <td>93.250000</td>\n",
       "      <td>93.250000</td>\n",
       "      <td>11134858</td>\n",
       "    </tr>\n",
       "    <tr>\n",
       "      <th>2022-12-08</th>\n",
       "      <td>93.250000</td>\n",
       "      <td>93.449997</td>\n",
       "      <td>92.449997</td>\n",
       "      <td>92.550003</td>\n",
       "      <td>92.550003</td>\n",
       "      <td>10614975</td>\n",
       "    </tr>\n",
       "    <tr>\n",
       "      <th>2022-12-09</th>\n",
       "      <td>93.050003</td>\n",
       "      <td>93.599998</td>\n",
       "      <td>90.300003</td>\n",
       "      <td>90.849998</td>\n",
       "      <td>90.849998</td>\n",
       "      <td>15835417</td>\n",
       "    </tr>\n",
       "    <tr>\n",
       "      <th>2022-12-12</th>\n",
       "      <td>91.099998</td>\n",
       "      <td>93.000000</td>\n",
       "      <td>90.199997</td>\n",
       "      <td>92.550003</td>\n",
       "      <td>92.550003</td>\n",
       "      <td>8164739</td>\n",
       "    </tr>\n",
       "  </tbody>\n",
       "</table>\n",
       "</div>"
      ],
      "text/plain": [
       "                 Open       High        Low      Close  Adj Close    Volume\n",
       "Date                                                                       \n",
       "2022-12-06  93.500000  93.500000  92.199997  93.000000  93.000000   9031442\n",
       "2022-12-07  92.800003  94.050003  92.800003  93.250000  93.250000  11134858\n",
       "2022-12-08  93.250000  93.449997  92.449997  92.550003  92.550003  10614975\n",
       "2022-12-09  93.050003  93.599998  90.300003  90.849998  90.849998  15835417\n",
       "2022-12-12  91.099998  93.000000  90.199997  92.550003  92.550003   8164739"
      ]
     },
     "execution_count": 5,
     "metadata": {},
     "output_type": "execute_result"
    }
   ],
   "source": [
    "data.tail()"
   ]
  },
  {
   "cell_type": "code",
   "execution_count": 7,
   "id": "d939776c",
   "metadata": {},
   "outputs": [
    {
     "data": {
      "text/plain": [
       "<AxesSubplot:xlabel='Date'>"
      ]
     },
     "execution_count": 7,
     "metadata": {},
     "output_type": "execute_result"
    },
    {
     "data": {
      "image/png": "[encoded data removed]",
      "text/plain": [
       "<Figure size 432x288 with 1 Axes>"
      ]
     },
     "metadata": {
      "needs_background": "light"
     },
     "output_type": "display_data"
    }
   ],
   "source": [
    "opn = data[['Open']]\n",
    "opn.plot()"
   ]
  },
  {
   "cell_type": "code",
   "execution_count": 8,
   "id": "2fb55053",
   "metadata": {},
   "outputs": [],
   "source": [
    "import matplotlib.pyplot as plt\n"
   ]
  },
  {
   "cell_type": "code",
   "execution_count": 9,
   "id": "3784cd70",
   "metadata": {},
   "outputs": [
    {
     "data": {
      "text/plain": [
       "array([[121.20002747],\n",
       "       [123.46253204],\n",
       "       [123.50003052],\n",
       "       ...,\n",
       "       [ 93.25      ],\n",
       "       [ 93.05000305],\n",
       "       [ 91.09999847]])"
      ]
     },
     "execution_count": 9,
     "metadata": {},
     "output_type": "execute_result"
    }
   ],
   "source": [
    "ds = opn.values\n",
    "ds"
   ]
  },
  {
   "cell_type": "code",
   "execution_count": 10,
   "id": "7a4803c4",
   "metadata": {},
   "outputs": [
    {
     "data": {
      "text/plain": [
       "[<matplotlib.lines.Line2D at 0x1d8f2a759d0>]"
      ]
     },
     "execution_count": 10,
     "metadata": {},
     "output_type": "execute_result"
    },
    {
     "data": {
      "image/png": "[encoded data removed]",
      "text/plain": [
       "<Figure size 432x288 with 1 Axes>"
      ]
     },
     "metadata": {
      "needs_background": "light"
     },
     "output_type": "display_data"
    }
   ],
   "source": [
    "plt.plot(ds)"
   ]
  },
  {
   "cell_type": "code",
   "execution_count": 11,
   "id": "27da5e24",
   "metadata": {},
   "outputs": [],
   "source": [
    "import numpy as np\n",
    "from sklearn.preprocessing import MinMaxScaler"
   ]
  },
  {
   "cell_type": "code",
   "execution_count": 12,
   "id": "33eb52dd",
   "metadata": {},
   "outputs": [],
   "source": [
    "#Using MinMaxScaler for normalizing data between 0 & 1\n",
    "normalizer = MinMaxScaler(feature_range=(0,1))\n",
    "ds_scaled = normalizer.fit_transform(np.array(ds).reshape(-1,1))"
   ]
  },
  {
   "cell_type": "code",
   "execution_count": 30,
   "id": "b43c679f",
   "metadata": {},
   "outputs": [
    {
     "data": {
      "text/plain": [
       "(1235, 1235)"
      ]
     },
     "execution_count": 30,
     "metadata": {},
     "output_type": "execute_result"
    }
   ],
   "source": [
    "len(ds_scaled), len(ds)"
   ]
  },
  {
   "cell_type": "code",
   "execution_count": 31,
   "id": "bb79cf11",
   "metadata": {},
   "outputs": [],
   "source": [
    "#Defining test and train data sizes\n",
    "train_size = int(len(ds_scaled)*0.70)\n",
    "test_size = len(ds_scaled) - train_size\n"
   ]
  },
  {
   "cell_type": "code",
   "execution_count": 33,
   "id": "14773e65",
   "metadata": {},
   "outputs": [
    {
     "data": {
      "text/plain": [
       "(864, 371)"
      ]
     },
     "execution_count": 33,
     "metadata": {},
     "output_type": "execute_result"
    }
   ],
   "source": [
    "train_size,test_size"
   ]
  },
  {
   "cell_type": "code",
   "execution_count": 34,
   "id": "1ea2ed3a",
   "metadata": {},
   "outputs": [],
   "source": [
    "#Splitting data between train and test\n",
    "ds_train, ds_test = ds_scaled[0:train_size,:], ds_scaled[train_size:len(ds_scaled),:1]\n"
   ]
  },
  {
   "cell_type": "code",
   "execution_count": 35,
   "id": "667d3e37",
   "metadata": {},
   "outputs": [
    {
     "data": {
      "text/plain": [
       "(864, 371)"
      ]
     },
     "execution_count": 35,
     "metadata": {},
     "output_type": "execute_result"
    }
   ],
   "source": [
    "len(ds_train),len(ds_test)"
   ]
  },
  {
   "cell_type": "code",
   "execution_count": 36,
   "id": "095658f4",
   "metadata": {},
   "outputs": [],
   "source": [
    "#creating dataset in time series for LSTM model \n",
    "#X[100,120,140,160,180] : Y[200]\n",
    "def create_ds(dataset,step):\n",
    "    Xtrain, Ytrain = [], []\n",
    "    for i in range(len(dataset)-step-1):\n",
    "        a = dataset[i:(i+step), 0]\n",
    "        Xtrain.append(a)\n",
    "        Ytrain.append(dataset[i + step, 0])\n",
    "    return np.array(Xtrain), np.array(Ytrain)"
   ]
  },
  {
   "cell_type": "code",
   "execution_count": 37,
   "id": "5ec7f0fe",
   "metadata": {},
   "outputs": [],
   "source": [
    "#Taking 100 days price as one record for training\n",
    "time_stamp = 100\n",
    "X_train, y_train = create_ds(ds_train,time_stamp)\n",
    "X_test, y_test = create_ds(ds_test,time_stamp)\n"
   ]
  },
  {
   "cell_type": "code",
   "execution_count": 95,
   "id": "f9544054",
   "metadata": {},
   "outputs": [
    {
     "data": {
      "text/plain": [
       "((763, 100, 1), (763,))"
      ]
     },
     "execution_count": 95,
     "metadata": {},
     "output_type": "execute_result"
    }
   ],
   "source": [
    "X_train.shape,y_train.shape"
   ]
  },
  {
   "cell_type": "code",
   "execution_count": 94,
   "id": "88844f96",
   "metadata": {},
   "outputs": [
    {
     "data": {
      "text/plain": [
       "((270, 100, 1), (270,))"
      ]
     },
     "execution_count": 94,
     "metadata": {},
     "output_type": "execute_result"
    }
   ],
   "source": [
    "X_test.shape, y_test.shape"
   ]
  },
  {
   "cell_type": "code",
   "execution_count": 96,
   "id": "0ccc2e4c",
   "metadata": {},
   "outputs": [],
   "source": [
    "#Reshaping data to fit into LSTM model\n",
    "X_train = X_train.reshape(X_train.shape[0],X_train.shape[1] , 1)\n",
    "X_test = X_test.reshape(X_test.shape[0],X_test.shape[1] , 1)\n"
   ]
  },
  {
   "cell_type": "code",
   "execution_count": 97,
   "id": "8feea8dc",
   "metadata": {},
   "outputs": [],
   "source": [
    "from keras.models import Sequential\n",
    "from keras.layers import Dense, LSTM\n"
   ]
  },
  {
   "cell_type": "code",
   "execution_count": 42,
   "id": "f3397ae6",
   "metadata": {},
   "outputs": [
    {
     "name": "stdout",
     "output_type": "stream",
     "text": [
      "Model: \"sequential\"\n",
      "_________________________________________________________________\n",
      " Layer (type)                Output Shape              Param #   \n",
      "=================================================================\n",
      " lstm (LSTM)                 (None, 100, 50)           10400     \n",
      "                                                                 \n",
      " lstm_1 (LSTM)               (None, 100, 50)           20200     \n",
      "                                                                 \n",
      " lstm_2 (LSTM)               (None, 50)                20200     \n",
      "                                                                 \n",
      " dense (Dense)               (None, 1)                 51        \n",
      "                                                                 \n",
      "=================================================================\n",
      "Total params: 50,851\n",
      "Trainable params: 50,851\n",
      "Non-trainable params: 0\n",
      "_________________________________________________________________\n"
     ]
    }
   ],
   "source": [
    "#Creating LSTM model using keras\n",
    "model = Sequential()\n",
    "model.add(LSTM(units=50,return_sequences=True,input_shape=(X_train.shape[1],1)))\n",
    "model.add(LSTM(units=50,return_sequences=True))\n",
    "model.add(LSTM(units=50))\n",
    "model.add(Dense(units=1,activation='linear'))\n",
    "model.summary()"
   ]
  },
  {
   "cell_type": "code",
   "execution_count": 43,
   "id": "74278fba",
   "metadata": {},
   "outputs": [
    {
     "name": "stdout",
     "output_type": "stream",
     "text": [
      "Epoch 1/100\n",
      "12/12 [==============================] - 13s 363ms/step - loss: 0.0828 - val_loss: 0.0172\n",
      "Epoch 2/100\n",
      "12/12 [==============================] - 3s 228ms/step - loss: 0.0178 - val_loss: 0.0143\n",
      "Epoch 3/100\n",
      "12/12 [==============================] - 2s 158ms/step - loss: 0.0089 - val_loss: 0.0032\n",
      "Epoch 4/100\n",
      "12/12 [==============================] - 2s 182ms/step - loss: 0.0059 - val_loss: 0.0030\n",
      "Epoch 5/100\n",
      "12/12 [==============================] - 2s 182ms/step - loss: 0.0049 - val_loss: 0.0032\n",
      "Epoch 6/100\n",
      "12/12 [==============================] - 2s 168ms/step - loss: 0.0044 - val_loss: 0.0031\n",
      "Epoch 7/100\n",
      "12/12 [==============================] - 3s 233ms/step - loss: 0.0043 - val_loss: 0.0031\n",
      "Epoch 8/100\n",
      "12/12 [==============================] - 2s 181ms/step - loss: 0.0043 - val_loss: 0.0030\n",
      "Epoch 9/100\n",
      "12/12 [==============================] - 2s 155ms/step - loss: 0.0042 - val_loss: 0.0030\n",
      "Epoch 10/100\n",
      "12/12 [==============================] - 2s 158ms/step - loss: 0.0041 - val_loss: 0.0030\n",
      "Epoch 11/100\n",
      "12/12 [==============================] - 2s 169ms/step - loss: 0.0040 - val_loss: 0.0030\n",
      "Epoch 12/100\n",
      "12/12 [==============================] - 2s 174ms/step - loss: 0.0039 - val_loss: 0.0028\n",
      "Epoch 13/100\n",
      "12/12 [==============================] - 2s 172ms/step - loss: 0.0038 - val_loss: 0.0028\n",
      "Epoch 14/100\n",
      "12/12 [==============================] - 2s 168ms/step - loss: 0.0038 - val_loss: 0.0027\n",
      "Epoch 15/100\n",
      "12/12 [==============================] - 2s 162ms/step - loss: 0.0036 - val_loss: 0.0027\n",
      "Epoch 16/100\n",
      "12/12 [==============================] - 2s 162ms/step - loss: 0.0035 - val_loss: 0.0026\n",
      "Epoch 17/100\n",
      "12/12 [==============================] - 2s 181ms/step - loss: 0.0035 - val_loss: 0.0027\n",
      "Epoch 18/100\n",
      "12/12 [==============================] - 2s 154ms/step - loss: 0.0034 - val_loss: 0.0026\n",
      "Epoch 19/100\n",
      "12/12 [==============================] - 2s 147ms/step - loss: 0.0035 - val_loss: 0.0025\n",
      "Epoch 20/100\n",
      "12/12 [==============================] - 2s 155ms/step - loss: 0.0035 - val_loss: 0.0025\n",
      "Epoch 21/100\n",
      "12/12 [==============================] - 2s 161ms/step - loss: 0.0032 - val_loss: 0.0026\n",
      "Epoch 22/100\n",
      "12/12 [==============================] - 2s 156ms/step - loss: 0.0032 - val_loss: 0.0024\n",
      "Epoch 23/100\n",
      "12/12 [==============================] - 2s 151ms/step - loss: 0.0031 - val_loss: 0.0024\n",
      "Epoch 24/100\n",
      "12/12 [==============================] - 2s 179ms/step - loss: 0.0030 - val_loss: 0.0024\n",
      "Epoch 25/100\n",
      "12/12 [==============================] - 2s 163ms/step - loss: 0.0032 - val_loss: 0.0025\n",
      "Epoch 26/100\n",
      "12/12 [==============================] - 2s 175ms/step - loss: 0.0030 - val_loss: 0.0023\n",
      "Epoch 27/100\n",
      "12/12 [==============================] - 3s 223ms/step - loss: 0.0031 - val_loss: 0.0023\n",
      "Epoch 28/100\n",
      "12/12 [==============================] - 2s 165ms/step - loss: 0.0029 - val_loss: 0.0022\n",
      "Epoch 29/100\n",
      "12/12 [==============================] - 2s 164ms/step - loss: 0.0028 - val_loss: 0.0022\n",
      "Epoch 30/100\n",
      "12/12 [==============================] - 2s 185ms/step - loss: 0.0027 - val_loss: 0.0024\n",
      "Epoch 31/100\n",
      "12/12 [==============================] - 3s 249ms/step - loss: 0.0029 - val_loss: 0.0024\n",
      "Epoch 32/100\n",
      "12/12 [==============================] - 2s 172ms/step - loss: 0.0028 - val_loss: 0.0024\n",
      "Epoch 33/100\n",
      "12/12 [==============================] - 2s 157ms/step - loss: 0.0028 - val_loss: 0.0021\n",
      "Epoch 34/100\n",
      "12/12 [==============================] - 2s 175ms/step - loss: 0.0026 - val_loss: 0.0020\n",
      "Epoch 35/100\n",
      "12/12 [==============================] - 2s 188ms/step - loss: 0.0025 - val_loss: 0.0020\n",
      "Epoch 36/100\n",
      "12/12 [==============================] - 2s 167ms/step - loss: 0.0025 - val_loss: 0.0020\n",
      "Epoch 37/100\n",
      "12/12 [==============================] - 2s 195ms/step - loss: 0.0024 - val_loss: 0.0021\n",
      "Epoch 38/100\n",
      "12/12 [==============================] - 2s 197ms/step - loss: 0.0025 - val_loss: 0.0019\n",
      "Epoch 39/100\n",
      "12/12 [==============================] - 2s 186ms/step - loss: 0.0024 - val_loss: 0.0020\n",
      "Epoch 40/100\n",
      "12/12 [==============================] - 2s 191ms/step - loss: 0.0025 - val_loss: 0.0021\n",
      "Epoch 41/100\n",
      "12/12 [==============================] - 3s 242ms/step - loss: 0.0023 - val_loss: 0.0017\n",
      "Epoch 42/100\n",
      "12/12 [==============================] - 3s 217ms/step - loss: 0.0021 - val_loss: 0.0016\n",
      "Epoch 43/100\n",
      "12/12 [==============================] - 2s 206ms/step - loss: 0.0021 - val_loss: 0.0015\n",
      "Epoch 44/100\n",
      "12/12 [==============================] - 2s 197ms/step - loss: 0.0021 - val_loss: 0.0015\n",
      "Epoch 45/100\n",
      "12/12 [==============================] - 3s 224ms/step - loss: 0.0020 - val_loss: 0.0015\n",
      "Epoch 46/100\n",
      "12/12 [==============================] - 2s 155ms/step - loss: 0.0020 - val_loss: 0.0017\n",
      "Epoch 47/100\n",
      "12/12 [==============================] - 2s 169ms/step - loss: 0.0020 - val_loss: 0.0014\n",
      "Epoch 48/100\n",
      "12/12 [==============================] - 3s 234ms/step - loss: 0.0020 - val_loss: 0.0016\n",
      "Epoch 49/100\n",
      "12/12 [==============================] - 3s 222ms/step - loss: 0.0020 - val_loss: 0.0015\n",
      "Epoch 50/100\n",
      "12/12 [==============================] - 2s 210ms/step - loss: 0.0018 - val_loss: 0.0013\n",
      "Epoch 51/100\n",
      "12/12 [==============================] - 2s 198ms/step - loss: 0.0018 - val_loss: 0.0013\n",
      "Epoch 52/100\n",
      "12/12 [==============================] - 3s 248ms/step - loss: 0.0018 - val_loss: 0.0014\n",
      "Epoch 53/100\n",
      "12/12 [==============================] - 2s 160ms/step - loss: 0.0017 - val_loss: 0.0012\n",
      "Epoch 54/100\n",
      "12/12 [==============================] - 2s 215ms/step - loss: 0.0017 - val_loss: 0.0012\n",
      "Epoch 55/100\n",
      "12/12 [==============================] - 3s 237ms/step - loss: 0.0017 - val_loss: 0.0013\n",
      "Epoch 56/100\n",
      "12/12 [==============================] - 2s 196ms/step - loss: 0.0017 - val_loss: 0.0015\n",
      "Epoch 57/100\n",
      "12/12 [==============================] - 2s 191ms/step - loss: 0.0019 - val_loss: 0.0011\n",
      "Epoch 58/100\n",
      "12/12 [==============================] - 3s 221ms/step - loss: 0.0019 - val_loss: 0.0017\n",
      "Epoch 59/100\n",
      "12/12 [==============================] - 2s 183ms/step - loss: 0.0017 - val_loss: 0.0012\n",
      "Epoch 60/100\n",
      "12/12 [==============================] - 2s 192ms/step - loss: 0.0016 - val_loss: 0.0014\n",
      "Epoch 61/100\n",
      "12/12 [==============================] - 3s 238ms/step - loss: 0.0015 - val_loss: 0.0011\n",
      "Epoch 62/100\n",
      "12/12 [==============================] - 2s 198ms/step - loss: 0.0015 - val_loss: 0.0011\n",
      "Epoch 63/100\n",
      "12/12 [==============================] - 3s 212ms/step - loss: 0.0015 - val_loss: 0.0011\n",
      "Epoch 64/100\n",
      "12/12 [==============================] - 2s 207ms/step - loss: 0.0015 - val_loss: 0.0011\n",
      "Epoch 65/100\n",
      "12/12 [==============================] - 2s 195ms/step - loss: 0.0015 - val_loss: 0.0012\n",
      "Epoch 66/100\n",
      "12/12 [==============================] - 3s 222ms/step - loss: 0.0014 - val_loss: 0.0011\n",
      "Epoch 67/100\n",
      "12/12 [==============================] - 3s 227ms/step - loss: 0.0014 - val_loss: 0.0010\n",
      "Epoch 68/100\n",
      "12/12 [==============================] - 3s 226ms/step - loss: 0.0014 - val_loss: 0.0011\n",
      "Epoch 69/100\n",
      "12/12 [==============================] - 2s 213ms/step - loss: 0.0014 - val_loss: 0.0011\n",
      "Epoch 70/100\n",
      "12/12 [==============================] - 2s 157ms/step - loss: 0.0013 - val_loss: 0.0012\n",
      "Epoch 71/100\n",
      "12/12 [==============================] - 3s 247ms/step - loss: 0.0014 - val_loss: 0.0013\n",
      "Epoch 72/100\n",
      "12/12 [==============================] - 2s 145ms/step - loss: 0.0016 - val_loss: 0.0010\n",
      "Epoch 73/100\n",
      "12/12 [==============================] - 2s 214ms/step - loss: 0.0014 - val_loss: 9.3375e-04\n",
      "Epoch 74/100\n",
      "12/12 [==============================] - 3s 235ms/step - loss: 0.0015 - val_loss: 0.0015\n",
      "Epoch 75/100\n",
      "12/12 [==============================] - 3s 273ms/step - loss: 0.0014 - val_loss: 9.0507e-04\n",
      "Epoch 76/100\n",
      "12/12 [==============================] - 3s 226ms/step - loss: 0.0013 - val_loss: 0.0012\n",
      "Epoch 77/100\n",
      "12/12 [==============================] - 4s 304ms/step - loss: 0.0013 - val_loss: 8.7687e-04\n",
      "Epoch 78/100\n",
      "12/12 [==============================] - 3s 267ms/step - loss: 0.0013 - val_loss: 0.0011\n",
      "Epoch 79/100\n",
      "12/12 [==============================] - 3s 272ms/step - loss: 0.0014 - val_loss: 8.5895e-04\n",
      "Epoch 80/100\n",
      "12/12 [==============================] - 3s 228ms/step - loss: 0.0013 - val_loss: 9.0023e-04\n",
      "Epoch 81/100\n"
     ]
    },
    {
     "name": "stdout",
     "output_type": "stream",
     "text": [
      "12/12 [==============================] - 3s 252ms/step - loss: 0.0012 - val_loss: 8.8582e-04\n",
      "Epoch 82/100\n",
      "12/12 [==============================] - 2s 144ms/step - loss: 0.0012 - val_loss: 0.0012\n",
      "Epoch 83/100\n",
      "12/12 [==============================] - 2s 162ms/step - loss: 0.0013 - val_loss: 8.3771e-04\n",
      "Epoch 84/100\n",
      "12/12 [==============================] - 3s 216ms/step - loss: 0.0011 - val_loss: 8.1053e-04\n",
      "Epoch 85/100\n",
      "12/12 [==============================] - 3s 248ms/step - loss: 0.0012 - val_loss: 8.0091e-04\n",
      "Epoch 86/100\n",
      "12/12 [==============================] - 3s 259ms/step - loss: 0.0011 - val_loss: 7.9740e-04\n",
      "Epoch 87/100\n",
      "12/12 [==============================] - 2s 201ms/step - loss: 0.0012 - val_loss: 8.8518e-04\n",
      "Epoch 88/100\n",
      "12/12 [==============================] - 3s 262ms/step - loss: 0.0011 - val_loss: 8.0428e-04\n",
      "Epoch 89/100\n",
      "12/12 [==============================] - 4s 312ms/step - loss: 0.0011 - val_loss: 8.4739e-04\n",
      "Epoch 90/100\n",
      "12/12 [==============================] - 3s 290ms/step - loss: 0.0011 - val_loss: 8.2529e-04\n",
      "Epoch 91/100\n",
      "12/12 [==============================] - 3s 284ms/step - loss: 0.0012 - val_loss: 0.0010\n",
      "Epoch 92/100\n",
      "12/12 [==============================] - 3s 273ms/step - loss: 0.0013 - val_loss: 7.6980e-04\n",
      "Epoch 93/100\n",
      "12/12 [==============================] - 4s 311ms/step - loss: 0.0011 - val_loss: 7.4024e-04\n",
      "Epoch 94/100\n",
      "12/12 [==============================] - 4s 297ms/step - loss: 0.0011 - val_loss: 7.2551e-04\n",
      "Epoch 95/100\n",
      "12/12 [==============================] - 3s 278ms/step - loss: 0.0010 - val_loss: 7.2821e-04\n",
      "Epoch 96/100\n",
      "12/12 [==============================] - 3s 276ms/step - loss: 0.0010 - val_loss: 9.4428e-04\n",
      "Epoch 97/100\n",
      "12/12 [==============================] - 3s 238ms/step - loss: 0.0012 - val_loss: 9.1659e-04\n",
      "Epoch 98/100\n",
      "12/12 [==============================] - 3s 241ms/step - loss: 0.0012 - val_loss: 7.8208e-04\n",
      "Epoch 99/100\n",
      "12/12 [==============================] - 3s 299ms/step - loss: 0.0011 - val_loss: 7.4037e-04\n",
      "Epoch 100/100\n",
      "12/12 [==============================] - 3s 248ms/step - loss: 0.0011 - val_loss: 6.8709e-04\n"
     ]
    },
    {
     "data": {
      "text/plain": [
       "<keras.callbacks.History at 0x1d8fed6bfa0>"
      ]
     },
     "execution_count": 43,
     "metadata": {},
     "output_type": "execute_result"
    }
   ],
   "source": [
    "#Training model with adam optimizer and mean squared error loss function\n",
    "model.compile(loss='mean_squared_error',optimizer='adam')\n",
    "model.fit(X_train,y_train,validation_data=(X_test,y_test),epochs=100,batch_size=64)\n"
   ]
  },
  {
   "cell_type": "code",
   "execution_count": 44,
   "id": "841d2cec",
   "metadata": {},
   "outputs": [
    {
     "data": {
      "text/plain": [
       "[<matplotlib.lines.Line2D at 0x1d887479ee0>]"
      ]
     },
     "execution_count": 44,
     "metadata": {},
     "output_type": "execute_result"
    },
    {
     "data": {
      "image/png": "[encoded data removed]",
      "text/plain": [
       "<Figure size 432x288 with 1 Axes>"
      ]
     },
     "metadata": {
      "needs_background": "light"
     },
     "output_type": "display_data"
    }
   ],
   "source": [
    "#PLotting loss, it shows that loss has decreased significantly and model trained well\n",
    "loss = model.history.history['loss']\n",
    "plt.plot(loss)"
   ]
  },
  {
   "cell_type": "code",
   "execution_count": 45,
   "id": "7ddbfa62",
   "metadata": {},
   "outputs": [
    {
     "name": "stdout",
     "output_type": "stream",
     "text": [
      "24/24 [==============================] - 5s 29ms/step\n",
      "9/9 [==============================] - 0s 31ms/step\n"
     ]
    }
   ],
   "source": [
    "#Predicitng on train and test data\n",
    "train_predict = model.predict(X_train)\n",
    "test_predict = model.predict(X_test)"
   ]
  },
  {
   "cell_type": "code",
   "execution_count": 46,
   "id": "e79c4240",
   "metadata": {},
   "outputs": [],
   "source": [
    "#Inverse transform to get actual value\n",
    "train_predict = normalizer.inverse_transform(train_predict)\n",
    "test_predict = normalizer.inverse_transform(test_predict)"
   ]
  },
  {
   "cell_type": "code",
   "execution_count": 48,
   "id": "60a84417",
   "metadata": {},
   "outputs": [
    {
     "data": {
      "text/plain": [
       "[<matplotlib.lines.Line2D at 0x1d889855dc0>]"
      ]
     },
     "execution_count": 48,
     "metadata": {},
     "output_type": "execute_result"
    },
    {
     "data": {
      "image/png": "[encoded data removed]",
      "text/plain": [
       "<Figure size 432x288 with 1 Axes>"
      ]
     },
     "metadata": {
      "needs_background": "light"
     },
     "output_type": "display_data"
    }
   ],
   "source": [
    "#Comparing using visuals\n",
    "plt.plot(normalizer.inverse_transform(ds_scaled))\n",
    "plt.plot(train_predict)\n",
    "plt.plot(test_predict)\n"
   ]
  },
  {
   "cell_type": "code",
   "execution_count": 85,
   "id": "dfeb647d",
   "metadata": {},
   "outputs": [
    {
     "data": {
      "text/plain": [
       "371"
      ]
     },
     "execution_count": 85,
     "metadata": {},
     "output_type": "execute_result"
    }
   ],
   "source": [
    "len(ds_test)"
   ]
  },
  {
   "cell_type": "code",
   "execution_count": 86,
   "id": "fbb3df38",
   "metadata": {},
   "outputs": [],
   "source": [
    "#Getting the last 100 days records\n",
    "fut_inp = ds_test[270:]\n"
   ]
  },
  {
   "cell_type": "code",
   "execution_count": 87,
   "id": "98de9989",
   "metadata": {},
   "outputs": [],
   "source": [
    "fut_inp = fut_inp.reshape(1,-1)"
   ]
  },
  {
   "cell_type": "code",
   "execution_count": 88,
   "id": "d8a7a01a",
   "metadata": {},
   "outputs": [],
   "source": [
    "tmp_inp = list(fut_inp)"
   ]
  },
  {
   "cell_type": "code",
   "execution_count": 80,
   "id": "dacad570",
   "metadata": {},
   "outputs": [
    {
     "data": {
      "text/plain": [
       "(1, 100, 1)"
      ]
     },
     "execution_count": 80,
     "metadata": {},
     "output_type": "execute_result"
    }
   ],
   "source": [
    "fut_inp.shape"
   ]
  },
  {
   "cell_type": "code",
   "execution_count": 89,
   "id": "e061d42e",
   "metadata": {},
   "outputs": [],
   "source": [
    "#Creating list of the last 100 data\n",
    "tmp_inp = tmp_inp[0].tolist()"
   ]
  },
  {
   "cell_type": "code",
   "execution_count": 90,
   "id": "c01758e7",
   "metadata": {},
   "outputs": [
    {
     "name": "stdout",
     "output_type": "stream",
     "text": [
      "[[0.5451264977455139], [0.542694091796875], [0.5432618856430054], [0.5451488494873047], [0.547528862953186], [0.5500460863113403], [0.5525090098381042], [0.5547845363616943], [0.5567786693572998], [0.5584394335746765], [0.5597562193870544], [0.5607528686523438], [0.5614791512489319], [0.5619993805885315], [0.5623839497566223], [0.5627005696296692], [0.5630089044570923], [0.5633560419082642], [0.5637756586074829], [0.5642873644828796], [0.5648975372314453], [0.5656027793884277], [0.5663911700248718], [0.5672463774681091], [0.5681489706039429], [0.569080114364624], [0.5700224041938782], [0.5709616541862488], [0.5718868970870972], [0.5727912783622742]]\n"
     ]
    }
   ],
   "source": [
    "#Predicting next 30 days price suing the current data\n",
    "#It will predict in sliding window manner (algorithm) with stride 1\n",
    "lst_output=[]\n",
    "n_steps=100\n",
    "i=0\n",
    "while(i<30):\n",
    "    \n",
    "    if(len(tmp_inp)>100):\n",
    "        fut_inp = np.array(tmp_inp[1:])\n",
    "        fut_inp=fut_inp.reshape(1,-1)\n",
    "        fut_inp = fut_inp.reshape((1, n_steps, 1))\n",
    "        yhat = model.predict(fut_inp, verbose=0)\n",
    "        tmp_inp.extend(yhat[0].tolist())\n",
    "        tmp_inp = tmp_inp[1:]\n",
    "        lst_output.extend(yhat.tolist())\n",
    "        i=i+1\n",
    "    else:\n",
    "        fut_inp = fut_inp.reshape((1, n_steps,1))\n",
    "        yhat = model.predict(fut_inp, verbose=0)\n",
    "        tmp_inp.extend(yhat[0].tolist())\n",
    "        lst_output.extend(yhat.tolist())\n",
    "        i=i+1\n",
    "    \n",
    "\n",
    "print(lst_output)\n"
   ]
  },
  {
   "cell_type": "code",
   "execution_count": 91,
   "id": "3091f129",
   "metadata": {},
   "outputs": [
    {
     "data": {
      "text/plain": [
       "1235"
      ]
     },
     "execution_count": 91,
     "metadata": {},
     "output_type": "execute_result"
    }
   ],
   "source": [
    "len(ds_scaled)"
   ]
  },
  {
   "cell_type": "code",
   "execution_count": 92,
   "id": "c3f52cfa",
   "metadata": {},
   "outputs": [],
   "source": [
    "#Creating a dummy plane to plot graph one after another\n",
    "plot_new=np.arange(1,101)\n",
    "plot_pred=np.arange(101,131)"
   ]
  },
  {
   "cell_type": "code",
   "execution_count": 98,
   "id": "2435ef24",
   "metadata": {},
   "outputs": [
    {
     "ename": "ValueError",
     "evalue": "x and y must have same first dimension, but have shapes (100,) and (103, 1)",
     "output_type": "error",
     "traceback": [
      "\u001b[1;31m---------------------------------------------------------------------------\u001b[0m",
      "\u001b[1;31mValueError\u001b[0m                                Traceback (most recent call last)",
      "Input \u001b[1;32mIn [98]\u001b[0m, in \u001b[0;36m<cell line: 1>\u001b[1;34m()\u001b[0m\n\u001b[1;32m----> 1\u001b[0m \u001b[43mplt\u001b[49m\u001b[38;5;241;43m.\u001b[39;49m\u001b[43mplot\u001b[49m\u001b[43m(\u001b[49m\u001b[43mplot_new\u001b[49m\u001b[43m,\u001b[49m\u001b[43m \u001b[49m\u001b[43mnormalizer\u001b[49m\u001b[38;5;241;43m.\u001b[39;49m\u001b[43minverse_transform\u001b[49m\u001b[43m(\u001b[49m\u001b[43mds_scaled\u001b[49m\u001b[43m[\u001b[49m\u001b[38;5;241;43m1132\u001b[39;49m\u001b[43m:\u001b[49m\u001b[43m]\u001b[49m\u001b[43m)\u001b[49m\u001b[43m)\u001b[49m\n\u001b[0;32m      2\u001b[0m plt\u001b[38;5;241m.\u001b[39mplot(plot_pred, normalizer\u001b[38;5;241m.\u001b[39minverse_transform(lst_output))\n",
      "File \u001b[1;32m~\\anaconda3\\lib\\site-packages\\matplotlib\\pyplot.py:2757\u001b[0m, in \u001b[0;36mplot\u001b[1;34m(scalex, scaley, data, *args, **kwargs)\u001b[0m\n\u001b[0;32m   2755\u001b[0m \u001b[38;5;129m@_copy_docstring_and_deprecators\u001b[39m(Axes\u001b[38;5;241m.\u001b[39mplot)\n\u001b[0;32m   2756\u001b[0m \u001b[38;5;28;01mdef\u001b[39;00m \u001b[38;5;21mplot\u001b[39m(\u001b[38;5;241m*\u001b[39margs, scalex\u001b[38;5;241m=\u001b[39m\u001b[38;5;28;01mTrue\u001b[39;00m, scaley\u001b[38;5;241m=\u001b[39m\u001b[38;5;28;01mTrue\u001b[39;00m, data\u001b[38;5;241m=\u001b[39m\u001b[38;5;28;01mNone\u001b[39;00m, \u001b[38;5;241m*\u001b[39m\u001b[38;5;241m*\u001b[39mkwargs):\n\u001b[1;32m-> 2757\u001b[0m     \u001b[38;5;28;01mreturn\u001b[39;00m gca()\u001b[38;5;241m.\u001b[39mplot(\n\u001b[0;32m   2758\u001b[0m         \u001b[38;5;241m*\u001b[39margs, scalex\u001b[38;5;241m=\u001b[39mscalex, scaley\u001b[38;5;241m=\u001b[39mscaley,\n\u001b[0;32m   2759\u001b[0m         \u001b[38;5;241m*\u001b[39m\u001b[38;5;241m*\u001b[39m({\u001b[38;5;124m\"\u001b[39m\u001b[38;5;124mdata\u001b[39m\u001b[38;5;124m\"\u001b[39m: data} \u001b[38;5;28;01mif\u001b[39;00m data \u001b[38;5;129;01mis\u001b[39;00m \u001b[38;5;129;01mnot\u001b[39;00m \u001b[38;5;28;01mNone\u001b[39;00m \u001b[38;5;28;01melse\u001b[39;00m {}), \u001b[38;5;241m*\u001b[39m\u001b[38;5;241m*\u001b[39mkwargs)\n",
      "File \u001b[1;32m~\\anaconda3\\lib\\site-packages\\matplotlib\\axes\\_axes.py:1632\u001b[0m, in \u001b[0;36mAxes.plot\u001b[1;34m(self, scalex, scaley, data, *args, **kwargs)\u001b[0m\n\u001b[0;32m   1390\u001b[0m \u001b[38;5;124;03m\"\"\"\u001b[39;00m\n\u001b[0;32m   1391\u001b[0m \u001b[38;5;124;03mPlot y versus x as lines and/or markers.\u001b[39;00m\n\u001b[0;32m   1392\u001b[0m \n\u001b[1;32m   (...)\u001b[0m\n\u001b[0;32m   1629\u001b[0m \u001b[38;5;124;03m(``'green'``) or hex strings (``'#008000'``).\u001b[39;00m\n\u001b[0;32m   1630\u001b[0m \u001b[38;5;124;03m\"\"\"\u001b[39;00m\n\u001b[0;32m   1631\u001b[0m kwargs \u001b[38;5;241m=\u001b[39m cbook\u001b[38;5;241m.\u001b[39mnormalize_kwargs(kwargs, mlines\u001b[38;5;241m.\u001b[39mLine2D)\n\u001b[1;32m-> 1632\u001b[0m lines \u001b[38;5;241m=\u001b[39m [\u001b[38;5;241m*\u001b[39m\u001b[38;5;28mself\u001b[39m\u001b[38;5;241m.\u001b[39m_get_lines(\u001b[38;5;241m*\u001b[39margs, data\u001b[38;5;241m=\u001b[39mdata, \u001b[38;5;241m*\u001b[39m\u001b[38;5;241m*\u001b[39mkwargs)]\n\u001b[0;32m   1633\u001b[0m \u001b[38;5;28;01mfor\u001b[39;00m line \u001b[38;5;129;01min\u001b[39;00m lines:\n\u001b[0;32m   1634\u001b[0m     \u001b[38;5;28mself\u001b[39m\u001b[38;5;241m.\u001b[39madd_line(line)\n",
      "File \u001b[1;32m~\\anaconda3\\lib\\site-packages\\matplotlib\\axes\\_base.py:312\u001b[0m, in \u001b[0;36m_process_plot_var_args.__call__\u001b[1;34m(self, data, *args, **kwargs)\u001b[0m\n\u001b[0;32m    310\u001b[0m     this \u001b[38;5;241m+\u001b[39m\u001b[38;5;241m=\u001b[39m args[\u001b[38;5;241m0\u001b[39m],\n\u001b[0;32m    311\u001b[0m     args \u001b[38;5;241m=\u001b[39m args[\u001b[38;5;241m1\u001b[39m:]\n\u001b[1;32m--> 312\u001b[0m \u001b[38;5;28;01myield from\u001b[39;00m \u001b[38;5;28;43mself\u001b[39;49m\u001b[38;5;241;43m.\u001b[39;49m\u001b[43m_plot_args\u001b[49m\u001b[43m(\u001b[49m\u001b[43mthis\u001b[49m\u001b[43m,\u001b[49m\u001b[43m \u001b[49m\u001b[43mkwargs\u001b[49m\u001b[43m)\u001b[49m\n",
      "File \u001b[1;32m~\\anaconda3\\lib\\site-packages\\matplotlib\\axes\\_base.py:498\u001b[0m, in \u001b[0;36m_process_plot_var_args._plot_args\u001b[1;34m(self, tup, kwargs, return_kwargs)\u001b[0m\n\u001b[0;32m    495\u001b[0m     \u001b[38;5;28mself\u001b[39m\u001b[38;5;241m.\u001b[39maxes\u001b[38;5;241m.\u001b[39myaxis\u001b[38;5;241m.\u001b[39mupdate_units(y)\n\u001b[0;32m    497\u001b[0m \u001b[38;5;28;01mif\u001b[39;00m x\u001b[38;5;241m.\u001b[39mshape[\u001b[38;5;241m0\u001b[39m] \u001b[38;5;241m!=\u001b[39m y\u001b[38;5;241m.\u001b[39mshape[\u001b[38;5;241m0\u001b[39m]:\n\u001b[1;32m--> 498\u001b[0m     \u001b[38;5;28;01mraise\u001b[39;00m \u001b[38;5;167;01mValueError\u001b[39;00m(\u001b[38;5;124mf\u001b[39m\u001b[38;5;124m\"\u001b[39m\u001b[38;5;124mx and y must have same first dimension, but \u001b[39m\u001b[38;5;124m\"\u001b[39m\n\u001b[0;32m    499\u001b[0m                      \u001b[38;5;124mf\u001b[39m\u001b[38;5;124m\"\u001b[39m\u001b[38;5;124mhave shapes \u001b[39m\u001b[38;5;132;01m{\u001b[39;00mx\u001b[38;5;241m.\u001b[39mshape\u001b[38;5;132;01m}\u001b[39;00m\u001b[38;5;124m and \u001b[39m\u001b[38;5;132;01m{\u001b[39;00my\u001b[38;5;241m.\u001b[39mshape\u001b[38;5;132;01m}\u001b[39;00m\u001b[38;5;124m\"\u001b[39m)\n\u001b[0;32m    500\u001b[0m \u001b[38;5;28;01mif\u001b[39;00m x\u001b[38;5;241m.\u001b[39mndim \u001b[38;5;241m>\u001b[39m \u001b[38;5;241m2\u001b[39m \u001b[38;5;129;01mor\u001b[39;00m y\u001b[38;5;241m.\u001b[39mndim \u001b[38;5;241m>\u001b[39m \u001b[38;5;241m2\u001b[39m:\n\u001b[0;32m    501\u001b[0m     \u001b[38;5;28;01mraise\u001b[39;00m \u001b[38;5;167;01mValueError\u001b[39;00m(\u001b[38;5;124mf\u001b[39m\u001b[38;5;124m\"\u001b[39m\u001b[38;5;124mx and y can be no greater than 2D, but have \u001b[39m\u001b[38;5;124m\"\u001b[39m\n\u001b[0;32m    502\u001b[0m                      \u001b[38;5;124mf\u001b[39m\u001b[38;5;124m\"\u001b[39m\u001b[38;5;124mshapes \u001b[39m\u001b[38;5;132;01m{\u001b[39;00mx\u001b[38;5;241m.\u001b[39mshape\u001b[38;5;132;01m}\u001b[39;00m\u001b[38;5;124m and \u001b[39m\u001b[38;5;132;01m{\u001b[39;00my\u001b[38;5;241m.\u001b[39mshape\u001b[38;5;132;01m}\u001b[39;00m\u001b[38;5;124m\"\u001b[39m)\n",
      "\u001b[1;31mValueError\u001b[0m: x and y must have same first dimension, but have shapes (100,) and (103, 1)"
     ]
    },
    {
     "data": {
      "image/png": "[encoded data removed]",
      "text/plain": [
       "<Figure size 432x288 with 1 Axes>"
      ]
     },
     "metadata": {
      "needs_background": "light"
     },
     "output_type": "display_data"
    }
   ],
   "source": [
    "plt.plot(plot_new, normalizer.inverse_transform(ds_scaled[1132:]))\n",
    "plt.plot(plot_pred, normalizer.inverse_transform(lst_output))\n"
   ]
  },
  {
   "cell_type": "code",
   "execution_count": 69,
   "id": "fcd09a36",
   "metadata": {},
   "outputs": [],
   "source": [
    "ds_new = ds_scaled.tolist()"
   ]
  },
  {
   "cell_type": "code",
   "execution_count": 70,
   "id": "09347c1d",
   "metadata": {},
   "outputs": [
    {
     "data": {
      "text/plain": [
       "1235"
      ]
     },
     "execution_count": 70,
     "metadata": {},
     "output_type": "execute_result"
    }
   ],
   "source": [
    "len(ds_new)"
   ]
  },
  {
   "cell_type": "code",
   "execution_count": 71,
   "id": "665db715",
   "metadata": {},
   "outputs": [
    {
     "data": {
      "text/plain": [
       "[<matplotlib.lines.Line2D at 0x1d88ecbd460>]"
      ]
     },
     "execution_count": 71,
     "metadata": {},
     "output_type": "execute_result"
    },
    {
     "data": {
      "image/png": "[encoded data removed]",
      "text/plain": [
       "<Figure size 432x288 with 1 Axes>"
      ]
     },
     "metadata": {
      "needs_background": "light"
     },
     "output_type": "display_data"
    }
   ],
   "source": [
    "#Entends helps us to fill the missing value with approx value\n",
    "ds_new.extend(lst_output)\n",
    "plt.plot(ds_new[1200:])"
   ]
  },
  {
   "cell_type": "code",
   "execution_count": 73,
   "id": "341dc935",
   "metadata": {},
   "outputs": [],
   "source": [
    "#Creating final data for plotting\n",
    "final_graph = normalizer.inverse_transform(ds_new).tolist()\n"
   ]
  },
  {
   "cell_type": "code",
   "execution_count": 74,
   "id": "73478250",
   "metadata": {},
   "outputs": [
    {
     "data": {
      "text/plain": [
       "<matplotlib.legend.Legend at 0x1d88eb62730>"
      ]
     },
     "execution_count": 74,
     "metadata": {},
     "output_type": "execute_result"
    },
    {
     "data": {
      "image/png": "[encoded data removed]",
      "text/plain": [
       "<Figure size 432x288 with 1 Axes>"
      ]
     },
     "metadata": {
      "needs_background": "light"
     },
     "output_type": "display_data"
    }
   ],
   "source": [
    "#Plotting final results with predicted value after 30 Days\n",
    "plt.plot(final_graph,)\n",
    "plt.ylabel(\"Price\")\n",
    "plt.xlabel(\"Time\")\n",
    "plt.title(\"{0} prediction of next month open\".format(stock_symbol))\n",
    "plt.axhline(y=final_graph[len(final_graph)-1], color = 'red', linestyle = ':', label = 'NEXT 30D: {0}'.format(round(float(*final_graph[len(final_graph)-1]),2)))\n",
    "plt.legend()\n"
   ]
  },
  {
   "cell_type": "code",
   "execution_count": null,
   "id": "15d79f3c",
   "metadata": {},
   "outputs": [],
   "source": []
  },
  {
   "cell_type": "code",
   "execution_count": null,
   "id": "9404e153",
   "metadata": {},
   "outputs": [],
   "source": []
  },
  {
   "cell_type": "code",
   "execution_count": null,
   "id": "67f05587",
   "metadata": {},
   "outputs": [],
   "source": []
  },
  {
   "cell_type": "code",
   "execution_count": null,
   "id": "ea39ca87",
   "metadata": {},
   "outputs": [],
   "source": []
  }
 ],
 "metadata": {
  "kernelspec": {
   "display_name": "Python 3 (ipykernel)",
   "language": "python",
   "name": "python3"
  },
  "language_info": {
   "codemirror_mode": {
    "name": "ipython",
    "version": 3
   },
   "file_extension": ".py",
   "mimetype": "text/x-python",
   "name": "python",
   "nbconvert_exporter": "python",
   "pygments_lexer": "ipython3",
   "version": "3.9.12"
  }
 },
 "nbformat": 4,
 "nbformat_minor": 5
}
